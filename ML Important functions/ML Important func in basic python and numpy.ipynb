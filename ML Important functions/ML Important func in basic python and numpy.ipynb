{
 "cells": [
  {
   "cell_type": "code",
   "execution_count": 55,
   "id": "2f4a2bdc-d16d-4d7e-8b2b-fecd9cc48062",
   "metadata": {},
   "outputs": [],
   "source": [
    "import numpy as np"
   ]
  },
  {
   "cell_type": "markdown",
   "id": "cf672585-93b6-48c8-b2c6-dd2bb7f09b36",
   "metadata": {},
   "source": [
    "#### Sigmoid Function"
   ]
  },
  {
   "cell_type": "code",
   "execution_count": 56,
   "id": "84e178bc-a27a-44f6-bc0a-52347df8eb53",
   "metadata": {},
   "outputs": [],
   "source": [
    "def sigmoid(z):\n",
    "    a =  1/(1+np.exp(-z));\n",
    "    return a;"
   ]
  },
  {
   "cell_type": "code",
   "execution_count": 57,
   "id": "431971c9-07cc-4f95-acb7-ca6884d52313",
   "metadata": {},
   "outputs": [
    {
     "name": "stdout",
     "output_type": "stream",
     "text": [
      "sigmoid(1) = 0.7310585786300049\n",
      "\u001b[92m All tests passed.\n"
     ]
    }
   ],
   "source": [
    "import math\n",
    "from public_tests import *\n",
    "print(\"sigmoid(1) = \" + str(sigmoid(1)))\n",
    "basic_sigmoid_test(sigmoid)"
   ]
  },
  {
   "cell_type": "markdown",
   "id": "3af9e925-1d90-4d85-8d95-d593444148e3",
   "metadata": {},
   "source": [
    "#### Sigmoid derivative"
   ]
  },
  {
   "cell_type": "code",
   "execution_count": 58,
   "id": "d2981534-2242-4995-9a51-103b258742c7",
   "metadata": {},
   "outputs": [],
   "source": [
    "def sigmoid_derivative(z):\n",
    "    s = sigmoid(z)\n",
    "    dz = s*(1-s)\n",
    "    return dz;"
   ]
  },
  {
   "cell_type": "code",
   "execution_count": 59,
   "id": "088ae375-dcf6-4ddf-b0fb-d87a15d50499",
   "metadata": {},
   "outputs": [
    {
     "name": "stdout",
     "output_type": "stream",
     "text": [
      "sigmoid_derivative(t_x) = [0.19661193 0.10499359 0.04517666]\n",
      "\u001b[92m All tests passed.\n"
     ]
    }
   ],
   "source": [
    "t_x = np.array([1, 2, 3])\n",
    "print (\"sigmoid_derivative(t_x) = \" + str(sigmoid_derivative(t_x)))\n",
    "sigmoid_derivative_test(sigmoid_derivative)"
   ]
  },
  {
   "cell_type": "markdown",
   "id": "c34b26bb-8d42-4df9-8db0-a5bc78fc6c6c",
   "metadata": {},
   "source": [
    "#### ImageToVector"
   ]
  },
  {
   "cell_type": "code",
   "execution_count": 60,
   "id": "62f8845f-bbb9-4475-b4bb-8aa125e25635",
   "metadata": {},
   "outputs": [],
   "source": [
    "def image2vector(x):\n",
    "    vec = np.reshape(x,(x.shape[0] * x.shape[1] * x.shape[2] , 1))\n",
    "    return vec;"
   ]
  },
  {
   "cell_type": "code",
   "execution_count": 61,
   "id": "74f18479-c96a-419d-87a3-2f86e1cc9eee",
   "metadata": {},
   "outputs": [
    {
     "name": "stdout",
     "output_type": "stream",
     "text": [
      "image2vector(image) = [[0.67826139]\n",
      " [0.29380381]\n",
      " [0.90714982]\n",
      " [0.52835647]\n",
      " [0.4215251 ]\n",
      " [0.45017551]\n",
      " [0.92814219]\n",
      " [0.96677647]\n",
      " [0.85304703]\n",
      " [0.52351845]\n",
      " [0.19981397]\n",
      " [0.27417313]\n",
      " [0.60659855]\n",
      " [0.00533165]\n",
      " [0.10820313]\n",
      " [0.49978937]\n",
      " [0.34144279]\n",
      " [0.94630077]]\n",
      "\u001b[92m All tests passed.\n"
     ]
    }
   ],
   "source": [
    "t_image = np.array([[[ 0.67826139,  0.29380381],\n",
    "                     [ 0.90714982,  0.52835647],\n",
    "                     [ 0.4215251 ,  0.45017551]],\n",
    "\n",
    "                   [[ 0.92814219,  0.96677647],\n",
    "                    [ 0.85304703,  0.52351845],\n",
    "                    [ 0.19981397,  0.27417313]],\n",
    "\n",
    "                   [[ 0.60659855,  0.00533165],\n",
    "                    [ 0.10820313,  0.49978937],\n",
    "                    [ 0.34144279,  0.94630077]]])\n",
    "\n",
    "print (\"image2vector(image) = \" + str(image2vector(t_image)))\n",
    "\n",
    "image2vector_test(image2vector)"
   ]
  },
  {
   "cell_type": "markdown",
   "id": "a03c17a9-848e-4883-afc2-033694b9b91f",
   "metadata": {},
   "source": [
    "#### Normalizing Rows"
   ]
  },
  {
   "cell_type": "code",
   "execution_count": 62,
   "id": "5991d55c-68f7-481e-ba9a-58928dbb4328",
   "metadata": {},
   "outputs": [],
   "source": [
    "def normalize_rows(x):\n",
    "    x_norm = np.linalg.norm(x,keepdims=True,axis=1)\n",
    "    x = x/x_norm;\n",
    "    return x;"
   ]
  },
  {
   "cell_type": "code",
   "execution_count": 63,
   "id": "7fae08a2-ffc5-43bd-ae3e-2b8d19c5b352",
   "metadata": {},
   "outputs": [
    {
     "name": "stdout",
     "output_type": "stream",
     "text": [
      "normalizeRows(x) = [[0.         0.6        0.8       ]\n",
      " [0.13736056 0.82416338 0.54944226]]\n",
      "\u001b[92m All tests passed.\n"
     ]
    }
   ],
   "source": [
    "x = np.array([[0, 3, 4],\n",
    "              [1, 6, 4]])\n",
    "print(\"normalizeRows(x) = \" + str(normalize_rows(x)))\n",
    "\n",
    "normalizeRows_test(normalize_rows)"
   ]
  },
  {
   "cell_type": "markdown",
   "id": "2269c9c5-7b62-4057-82a1-8001e1781cbe",
   "metadata": {},
   "source": [
    "#### Softmax \n",
    "$\\begin{align*}\n",
    "softmax(x) &= softmax\\begin{bmatrix}\n",
    "            x_{11} & x_{12} & x_{13} & \\dots  & x_{1n} \\\\\n",
    "            x_{21} & x_{22} & x_{23} & \\dots  & x_{2n} \\\\\n",
    "            \\vdots & \\vdots & \\vdots & \\ddots & \\vdots \\\\\n",
    "            x_{m1} & x_{m2} & x_{m3} & \\dots  & x_{mn}\n",
    "            \\end{bmatrix} \\\\ \\\\&= \n",
    "\\begin{bmatrix}\n",
    "    \\frac{e^{x_{11}}}{\\sum_{j}e^{x_{1j}}} & \\frac{e^{x_{12}}}{\\sum_{j}e^{x_{1j}}} & \\frac{e^{x_{13}}}{\\sum_{j}e^{x_{1j}}} & \\dots  & \\frac{e^{x_{1n}}}{\\sum_{j}e^{x_{1j}}} \\\\\n",
    "    \\frac{e^{x_{21}}}{\\sum_{j}e^{x_{2j}}} & \\frac{e^{x_{22}}}{\\sum_{j}e^{x_{2j}}} & \\frac{e^{x_{23}}}{\\sum_{j}e^{x_{2j}}} & \\dots  & \\frac{e^{x_{2n}}}{\\sum_{j}e^{x_{2j}}} \\\\\n",
    "    \\vdots & \\vdots & \\vdots & \\ddots & \\vdots \\\\\n",
    "    \\frac{e^{x_{m1}}}{\\sum_{j}e^{x_{mj}}} & \\frac{e^{x_{m2}}}{\\sum_{j}e^{x_{mj}}} & \\frac{e^{x_{m3}}}{\\sum_{j}e^{x_{mj}}} & \\dots  & \\frac{e^{x_{mn}}}{\\sum_{j}e^{x_{mj}}}\n",
    "\\end{bmatrix} \\\\ \\\\ &= \\begin{pmatrix}\n",
    "    softmax\\text{(first row of x)}  \\\\\n",
    "    softmax\\text{(second row of x)} \\\\\n",
    "    \\vdots  \\\\\n",
    "    softmax\\text{(last row of x)} \\\\\n",
    "\\end{pmatrix} \n",
    "\\end{align*}$"
   ]
  },
  {
   "cell_type": "code",
   "execution_count": 64,
   "id": "ca4cfc0f-0a43-4305-b541-e7016d9e5eac",
   "metadata": {},
   "outputs": [],
   "source": [
    "def softmax(x):\n",
    "    x_exp = np.exp(x);\n",
    "    x_sum = np.sum(x_exp,keepdims=True,axis = 1);\n",
    "    x = x_exp/x_sum;\n",
    "    return x;"
   ]
  },
  {
   "cell_type": "code",
   "execution_count": 65,
   "id": "e9d3f790-2550-4b39-a176-c12757e1f4f8",
   "metadata": {},
   "outputs": [
    {
     "name": "stdout",
     "output_type": "stream",
     "text": [
      "softmax(x) = [[9.80897665e-01 8.94462891e-04 1.79657674e-02 1.21052389e-04\n",
      "  1.21052389e-04]\n",
      " [8.78679856e-01 1.18916387e-01 8.01252314e-04 8.01252314e-04\n",
      "  8.01252314e-04]]\n",
      "\u001b[92m All tests passed.\n"
     ]
    }
   ],
   "source": [
    "t_x = np.array([[9, 2, 5, 0, 0],\n",
    "                [7, 5, 0, 0 ,0]])\n",
    "print(\"softmax(x) = \" + str(softmax(t_x)))\n",
    "\n",
    "softmax_test(softmax)"
   ]
  },
  {
   "cell_type": "markdown",
   "id": "b9b94503-7270-4208-a3da-94d062b784d6",
   "metadata": {},
   "source": [
    "## Vectorization"
   ]
  },
  {
   "cell_type": "code",
   "execution_count": 66,
   "id": "4b5c24c1-4115-4e98-a7c8-40a0775873aa",
   "metadata": {},
   "outputs": [
    {
     "name": "stdout",
     "output_type": "stream",
     "text": [
      "dot product is:  [-4.89944729]\n",
      "---------------------------process_time is:  0.0 ms\n",
      "outer product of two arrays are:\n",
      "---------------------------process_time is:  3484.375 ms\n",
      "outer product of two arrays using vectorized implementation:\n",
      "---------------------------process_time is:  15.625 ms\n"
     ]
    }
   ],
   "source": [
    "import time;\n",
    "# In this cell i will give multiplication of vectors/arrays in simple loop \n",
    "\n",
    "x1 = np.random.randn(1000,1)\n",
    "x2 = np.random.randn(1000,1)\n",
    "\n",
    "\n",
    "tic = time.process_time();\n",
    "dot = 0;\n",
    "for i in range(len(x1)):\n",
    "    dot += x1[i] * x2[i];\n",
    "toc = time.process_time();\n",
    "print(\"dot product is: \" , dot)\n",
    "print(\"---------------------------process_time is: \",str((1000)*(toc-tic)),\"ms\")\n",
    "\n",
    "x3 = np.random.randn(1000,1000,1)\n",
    "\n",
    "tic = time.process_time();\n",
    "for i in range(x1.shape[0]):\n",
    "    for j in range(x2.shape[0]):\n",
    "        x3[i][j] = x1[i]*x2[j]\n",
    "\n",
    "toc = time.process_time();\n",
    "print(\"outer product of two arrays are:\")\n",
    "print(\"---------------------------process_time is: \",str((1000)*(toc-tic)),\"ms\")\n",
    "\n",
    "tic = time.process_time();\n",
    "x3 = np.outer(x1,x1)\n",
    "toc = time.process_time();\n",
    "print(\"outer product of two arrays using vectorized implementation:\")\n",
    "print(\"---------------------------process_time is: \",str((1000)*(toc-tic)),\"ms\")"
   ]
  },
  {
   "cell_type": "code",
   "execution_count": null,
   "id": "a2b61ea7-c62d-4972-b4fa-e35e8a95e40c",
   "metadata": {},
   "outputs": [],
   "source": []
  },
  {
   "cell_type": "code",
   "execution_count": null,
   "id": "9d526e41-be84-4756-8d81-69a795af9dc3",
   "metadata": {},
   "outputs": [],
   "source": []
  },
  {
   "cell_type": "code",
   "execution_count": null,
   "id": "5de79650-229a-44a7-94e3-0f6d89d00c55",
   "metadata": {},
   "outputs": [],
   "source": []
  },
  {
   "cell_type": "code",
   "execution_count": null,
   "id": "6a57b0a1-b00b-48d0-b2fa-e6c3e344ae76",
   "metadata": {},
   "outputs": [],
   "source": []
  }
 ],
 "metadata": {
  "kernelspec": {
   "display_name": "Python 3 (ipykernel)",
   "language": "python",
   "name": "python3"
  },
  "language_info": {
   "codemirror_mode": {
    "name": "ipython",
    "version": 3
   },
   "file_extension": ".py",
   "mimetype": "text/x-python",
   "name": "python",
   "nbconvert_exporter": "python",
   "pygments_lexer": "ipython3",
   "version": "3.10.13"
  }
 },
 "nbformat": 4,
 "nbformat_minor": 5
}
