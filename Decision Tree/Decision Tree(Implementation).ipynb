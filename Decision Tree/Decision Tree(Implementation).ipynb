{
 "cells": [
  {
   "cell_type": "code",
   "execution_count": 149,
   "id": "b200490c-a21c-4410-9457-527c29406b55",
   "metadata": {},
   "outputs": [],
   "source": [
    "import numpy as np"
   ]
  },
  {
   "cell_type": "code",
   "execution_count": 150,
   "id": "91227407-93e5-4bcd-bd6c-29ce50e85da5",
   "metadata": {},
   "outputs": [],
   "source": [
    "def compute_entropy(y):\n",
    "    entropy = 0\n",
    "    if len(y)!=0:\n",
    "        # compute the p1 ---> ratio of no of examples that have value 1 to total no of examples\n",
    "        p1 = len(y[y==1])/len(y)\n",
    "        # compute entropy \n",
    "        if p1 !=0 and p1!=1:\n",
    "            entropy = -p1 * np.log2(p1) - (1-p1) * np.log2(1-p1)\n",
    "        else:\n",
    "            entropy = 0\n",
    "            \n",
    "    return entropy\n"
   ]
  },
  {
   "cell_type": "code",
   "execution_count": 151,
   "id": "488a6da6-05e8-452f-b4c9-ab309063d309",
   "metadata": {},
   "outputs": [],
   "source": [
    "def split_dataset(X,node_indices,feature):\n",
    "    left_indices = []\n",
    "    right_indices = []\n",
    "    for idx in node_indices:\n",
    "        if X[idx,feature]==1:\n",
    "            left_indices.append(idx)\n",
    "        else:\n",
    "            right_indices.append(idx)\n",
    "    return left_indices,right_indices;"
   ]
  },
  {
   "cell_type": "code",
   "execution_count": 152,
   "id": "7fcd80e2-5cf5-4637-aad3-b2f231834e05",
   "metadata": {},
   "outputs": [],
   "source": [
    "def compute_information_gain(X,y,node_indices,feature):\n",
    "    left_indices,right_indices = split_dataset(X,node_indices,feature)\n",
    "\n",
    "    # compute datasets\n",
    "    X_node,y_node = X[node_indices],y[node_indices]\n",
    "    X_left,y_left = X[left_indices],y[left_indices]\n",
    "    X_right,y_right = X[right_indices],y[right_indices]\n",
    "\n",
    "    information_gain = 0\n",
    "    # compute weights\n",
    "    w_left = len(X_left)/len(X_node)\n",
    "    w_right = len(X_right)/len(X_node)\n",
    "\n",
    "    # compute entropy's\n",
    "    node_entropy = compute_entropy(y_node)\n",
    "    left_entropy = compute_entropy(y_left)\n",
    "    right_entropy = compute_entropy(y_right)\n",
    "\n",
    "    weighted_entropy = w_left * left_entropy + w_right * right_entropy\n",
    "\n",
    "    # Now compute Information gain\n",
    "    information_gain = node_entropy -  weighted_entropy\n",
    "\n",
    "    return information_gain;\n",
    "\n"
   ]
  },
  {
   "cell_type": "code",
   "execution_count": 153,
   "id": "c4e221ae-a472-42a2-a9c9-88a21d993885",
   "metadata": {},
   "outputs": [],
   "source": [
    "def find_best_feature_to_split(X,y,node_indices):\n",
    "    num_features = X.shape[1]\n",
    "    \n",
    "    best_feature = -1\n",
    "    information_gain = 0\n",
    "    \n",
    "    for feature in range(num_features):\n",
    "        new_info_gain = compute_information_gain(X,y,node_indices,feature)\n",
    "        if new_info_gain>information_gain :\n",
    "            information_gain = new_info_gain\n",
    "            best_feature = feature\n",
    "    \n",
    "    return best_feature;\n",
    "\n"
   ]
  },
  {
   "cell_type": "code",
   "execution_count": 154,
   "id": "39cefdf6-baf7-4d60-9af7-2c2515c6eac1",
   "metadata": {},
   "outputs": [],
   "source": [
    "tree = []\n",
    "def decision_tree(X,y,max_depth,curr_depth,node_indices):\n",
    "    if curr_depth == max_depth:\n",
    "        # # optional lines to print tree\n",
    "        # {\n",
    "        # formatting = \" \"*curr_depth + \"-\"*curr_depth\n",
    "        # print(formatting, \"%s leaf node with indices\" %  node_indices)\n",
    "        # }\n",
    "        return;\n",
    "    \n",
    "    feature = find_best_feature_to_split(X,y,node_indices);\n",
    "\n",
    "    # # optional lines to print tree\n",
    "    # {\n",
    "    # tree.append((curr_depth,best_feature,node_indices))\n",
    "    # formatting = \"-\"*curr_depth\n",
    "    # print(\"%s Depth %d, Split on feature: %d\" % (formatting, curr_depth,feature))\n",
    "    # }\n",
    "    \n",
    "    left_indices,right_indices = split_dataset(X,node_indices,feature)\n",
    "    \n",
    "    decision_tree(X,y,max_depth,curr_depth+1,left_indices)\n",
    "    decision_tree(X,y,max_depth,curr_depth+1,right_indices)\n",
    "    \n",
    "    return"
   ]
  },
  {
   "cell_type": "code",
   "execution_count": 155,
   "id": "9062e356-1eb7-4c20-b350-c64432e1f714",
   "metadata": {},
   "outputs": [],
   "source": [
    "# To check Decision tree\n",
    "# X_train = np.array([[1,1,1],[1,0,1],[1,0,0],[1,0,0],[1,1,1],[0,1,1],[0,0,0],[1,0,1],[0,1,0],[1,0,0]])\n",
    "# y_train = np.array([1,1,0,0,1,0,0,1,1,0])\n",
    "# decision_tree(X_train, y_train, 2, 0, root_indices)"
   ]
  },
  {
   "cell_type": "code",
   "execution_count": null,
   "id": "fdd02eda-2818-4dc6-a699-063f4377b900",
   "metadata": {},
   "outputs": [],
   "source": []
  }
 ],
 "metadata": {
  "kernelspec": {
   "display_name": "Python 3 (ipykernel)",
   "language": "python",
   "name": "python3"
  },
  "language_info": {
   "codemirror_mode": {
    "name": "ipython",
    "version": 3
   },
   "file_extension": ".py",
   "mimetype": "text/x-python",
   "name": "python",
   "nbconvert_exporter": "python",
   "pygments_lexer": "ipython3",
   "version": "3.11.7"
  }
 },
 "nbformat": 4,
 "nbformat_minor": 5
}
