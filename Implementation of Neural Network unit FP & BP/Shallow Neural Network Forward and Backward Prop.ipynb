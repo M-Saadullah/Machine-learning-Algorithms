{
 "cells": [
  {
   "cell_type": "code",
   "execution_count": null,
   "id": "54bb07ba-1481-4b3a-a166-f0199e001c86",
   "metadata": {},
   "outputs": [],
   "source": [
    "import numpy as np\n",
    "from numpy import random;\n",
    "from lr_utils import load_dataset"
   ]
  },
  {
   "cell_type": "markdown",
   "id": "d2d7d976-5bcd-4b6e-b818-c055863f1f31",
   "metadata": {},
   "source": [
    "### Preprocessing of image data"
   ]
  },
  {
   "cell_type": "code",
   "execution_count": null,
   "id": "5fbe64c1-10a8-4c37-9041-4ddbeafc9de6",
   "metadata": {},
   "outputs": [],
   "source": [
    "# Loading the data (cat/non-cat)\n",
    "train_set_x_orig, train_set_y, test_set_x_orig, test_set_y, classes = load_dataset()"
   ]
  },
  {
   "cell_type": "code",
   "execution_count": null,
   "id": "acc3b8f6-f782-4155-bf83-dd259ec40e9f",
   "metadata": {},
   "outputs": [],
   "source": [
    "train_set_x_flatten = train_set_x_orig.reshape(train_set_x_orig.shape[1]*train_set_x_orig.shape[2]*train_set_x_orig.shape[3] ,train_set_x_orig.shape[0])\n",
    "test_set_x_flatten = test_set_x_orig.reshape(test_set_x_orig.shape[1]*test_set_x_orig.shape[2]*test_set_x_orig.shape[3] , test_set_x_orig.shape[0])"
   ]
  },
  {
   "cell_type": "code",
   "execution_count": null,
   "id": "a9822a4f-c4c0-4f68-a8ce-507566552daf",
   "metadata": {},
   "outputs": [],
   "source": [
    "train_set_x = train_set_x_flatten/255;\n",
    "test_set_x = test_set_x_flatten/255;"
   ]
  },
  {
   "cell_type": "markdown",
   "id": "1fb326f2-5137-4761-8ece-feecb0fdb882",
   "metadata": {},
   "source": [
    "### Implementation of Logistic regression Model considering it a neuron"
   ]
  },
  {
   "cell_type": "code",
   "execution_count": null,
   "id": "dc18f589-11a0-423f-95a9-0f834583e146",
   "metadata": {},
   "outputs": [],
   "source": [
    "print(train_set_x.shape)\n",
    "print(train_set_y.shape)"
   ]
  },
  {
   "cell_type": "code",
   "execution_count": null,
   "id": "2190778c-4822-4066-80d8-7ee7e20f7f98",
   "metadata": {},
   "outputs": [],
   "source": [
    "def sigmoid(z):\n",
    "    a = 1 / (1 + np.exp(-z));\n",
    "    return a;\n",
    "\n",
    "w = np.zeros(train_set_x.shape[0])\n",
    "b = 0;\n",
    "alpha = 0.001;\n",
    "m = train_set_x.shape[1];"
   ]
  },
  {
   "cell_type": "code",
   "execution_count": null,
   "id": "7bdc0ba9-2e93-4b59-bb25-fef9462f90f0",
   "metadata": {},
   "outputs": [],
   "source": [
    "# Simple implementation using for loops   ----> very slow\n",
    "for j in range(10):\n",
    "    dw = np.zeros(w.shape)\n",
    "    db = 0;\n",
    "    for e in range(m):\n",
    "        z = np.dot(w,train_set_x[:,e]) + b\n",
    "        a = sigmoid(z)\n",
    "        dz = a - train_set_y[0,e]\n",
    "        for i in range(train_set_x.shape[0]):\n",
    "            dw[i] += train_set_x[i, e] * dz\n",
    "            db = db + (a - train_set_y[0,e]);\n",
    "    dw = dw/m;\n",
    "    db = db/m;\n",
    "    w = w - alpha * dw;\n",
    "    b = b - alpha * db;"
   ]
  },
  {
   "cell_type": "code",
   "execution_count": null,
   "id": "5e76aa8f-ea3f-4610-83f2-4ea439f7fbf1",
   "metadata": {},
   "outputs": [],
   "source": [
    "w = np.zeros(train_set_x.shape[0])\n",
    "b = 0;\n",
    "alpha = 0.001;\n",
    "m = train_set_x.shape[1];"
   ]
  },
  {
   "cell_type": "code",
   "execution_count": null,
   "id": "548d3b04-049d-446c-9e54-7fd16f30e096",
   "metadata": {},
   "outputs": [],
   "source": [
    "# vectorized implementation without any for loops  ---> very fast as compared to above implementation\n",
    "for _ in range(10000):\n",
    "    z = np.dot(w,train_set_x) + b\n",
    "    a = sigmoid(z)\n",
    "    dz = a - train_set_y[0]\n",
    "    dw = np.dot(train_set_x , dz.T) / m\n",
    "    db = np.sum((a - train_set_y[0]))/ m\n",
    "    w = w - (alpha * dw.squeeze())\n",
    "    b = b - (alpha * db);"
   ]
  },
  {
   "cell_type": "code",
   "execution_count": null,
   "id": "20f5c62b-aba7-4f8a-8003-0a37f4fdf278",
   "metadata": {},
   "outputs": [],
   "source": [
    "z = np.dot(w, train_set_x) + b  # Use the entire dataset for prediction\n",
    "a = sigmoid(z)\n",
    "x = np.where(z > 0, 1, 0)\n",
    "count = np.sum(x == train_set_y[0, :])\n",
    "print(count,\"correct predictions out of\",m)"
   ]
  },
  {
   "cell_type": "code",
   "execution_count": null,
   "id": "2e3ddec3-a774-4b8a-8297-2d3cea5cbcf6",
   "metadata": {},
   "outputs": [],
   "source": []
  }
 ],
 "metadata": {
  "kernelspec": {
   "display_name": "Python 3 (ipykernel)",
   "language": "python",
   "name": "python3"
  },
  "language_info": {
   "codemirror_mode": {
    "name": "ipython",
    "version": 3
   },
   "file_extension": ".py",
   "mimetype": "text/x-python",
   "name": "python",
   "nbconvert_exporter": "python",
   "pygments_lexer": "ipython3",
   "version": "3.10.13"
  }
 },
 "nbformat": 4,
 "nbformat_minor": 5
}
