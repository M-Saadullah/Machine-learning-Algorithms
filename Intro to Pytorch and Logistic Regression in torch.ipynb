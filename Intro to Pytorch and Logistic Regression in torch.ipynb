{
 "cells": [
  {
   "cell_type": "code",
   "execution_count": 10,
   "id": "7bee8687-7108-45a4-bc54-909017d2cbec",
   "metadata": {},
   "outputs": [],
   "source": [
    "import torch "
   ]
  },
  {
   "cell_type": "code",
   "execution_count": 34,
   "id": "3f8b76fd-daf8-4a7a-815e-ee115759ebc1",
   "metadata": {},
   "outputs": [
    {
     "name": "stdout",
     "output_type": "stream",
     "text": [
      "torch.Size([5, 3])\n",
      "torch.Size([5, 3])\n"
     ]
    }
   ],
   "source": [
    "x = torch.zeros(5,3)\n",
    "y = torch.ones(4,5)\n",
    "print(x.size())\n",
    "print(x.shape)"
   ]
  },
  {
   "cell_type": "code",
   "execution_count": 35,
   "id": "10537ea7-6a33-41f5-a1ac-29a60cd4bf56",
   "metadata": {},
   "outputs": [],
   "source": [
    "x = x.view(-1,5)  # just like the reshape funtion in numpy"
   ]
  },
  {
   "cell_type": "code",
   "execution_count": 38,
   "id": "e6d9311f-70a0-4ba0-929a-a35cd9fadcd9",
   "metadata": {},
   "outputs": [],
   "source": [
    "b = x.numpy()    # convert tensor to numpy"
   ]
  },
  {
   "cell_type": "code",
   "execution_count": 41,
   "id": "5d04b903-c63b-4671-be73-736735775e85",
   "metadata": {},
   "outputs": [],
   "source": [
    "x = torch.from_numpy(b)  # convert numpy to pytorch tensor"
   ]
  },
  {
   "cell_type": "code",
   "execution_count": 44,
   "id": "c50cb790-23ee-49a6-844a-7b3a22843eb6",
   "metadata": {},
   "outputs": [],
   "source": [
    "a = torch.ones(5,4)\n",
    "b = torch.ones(4,8)\n",
    "mat_mul = torch.mm(a,b)"
   ]
  },
  {
   "cell_type": "code",
   "execution_count": 45,
   "id": "b9a41cdf-3c6d-494f-8641-a62b2da343d8",
   "metadata": {},
   "outputs": [
    {
     "name": "stdout",
     "output_type": "stream",
     "text": [
      "tensor([[4., 4., 4., 4., 4., 4., 4., 4.],\n",
      "        [4., 4., 4., 4., 4., 4., 4., 4.],\n",
      "        [4., 4., 4., 4., 4., 4., 4., 4.],\n",
      "        [4., 4., 4., 4., 4., 4., 4., 4.],\n",
      "        [4., 4., 4., 4., 4., 4., 4., 4.]])\n"
     ]
    }
   ],
   "source": [
    "print(mat_mul)"
   ]
  },
  {
   "cell_type": "code",
   "execution_count": 53,
   "id": "5d298700-1c4c-4ae5-a77f-a84b6edbdaa9",
   "metadata": {},
   "outputs": [],
   "source": [
    "batch1 = torch.randn(10,3,4)\n",
    "batch2 = torch.randn(10,4,5)\n",
    "result = torch.bmm(batch1,batch2)  # batch multiplication"
   ]
  },
  {
   "cell_type": "code",
   "execution_count": 56,
   "id": "6db8cacd-3f80-4ab8-8ba9-036668947b60",
   "metadata": {},
   "outputs": [
    {
     "data": {
      "text/plain": [
       "torch.Size([10, 3, 5])"
      ]
     },
     "execution_count": 56,
     "metadata": {},
     "output_type": "execute_result"
    }
   ],
   "source": [
    "result.shape"
   ]
  },
  {
   "cell_type": "code",
   "execution_count": 99,
   "id": "fadb94f0-f710-4354-826e-02d133f4dc3f",
   "metadata": {},
   "outputs": [],
   "source": [
    "# Computational Graph\n",
    "\n",
    "x = torch.ones(2,2)\n",
    "y = torch.ones(2,1)\n",
    "y[1][0] = 0\n",
    "w = torch.randn(2,1, requires_grad = True)\n",
    "b = torch.randn(1,requires_grad = True)"
   ]
  },
  {
   "cell_type": "code",
   "execution_count": 120,
   "id": "f128780f-634d-4543-9f1c-396925150202",
   "metadata": {},
   "outputs": [],
   "source": [
    "p = torch.sigmoid(torch.mm(x,w) + b)"
   ]
  },
  {
   "cell_type": "code",
   "execution_count": 121,
   "id": "9fecd12d-c7ef-42ff-9cf2-39bae414814c",
   "metadata": {},
   "outputs": [],
   "source": [
    "loss = -y*torch.log(p)- (1-y)*torch.log(1-p)"
   ]
  },
  {
   "cell_type": "code",
   "execution_count": 122,
   "id": "17c03390-f615-46a2-b5de-f04967ba8b7d",
   "metadata": {},
   "outputs": [],
   "source": [
    "cost = loss.mean()"
   ]
  },
  {
   "cell_type": "code",
   "execution_count": 123,
   "id": "3a5a66aa-8e9c-4d62-bfc1-0754ad49c508",
   "metadata": {},
   "outputs": [],
   "source": [
    "cost.backward()"
   ]
  },
  {
   "cell_type": "code",
   "execution_count": 124,
   "id": "761cfb86-976a-48b0-b924-af435488e2aa",
   "metadata": {},
   "outputs": [
    {
     "name": "stdout",
     "output_type": "stream",
     "text": [
      "tensor([[0.8212],\n",
      "        [0.8212]])\n",
      "tensor([0.8212])\n"
     ]
    }
   ],
   "source": [
    "print(w.grad)\n",
    "print(b.grad)"
   ]
  },
  {
   "cell_type": "code",
   "execution_count": 145,
   "id": "47de9e04-a119-4e59-9fa4-b16445c3dff4",
   "metadata": {},
   "outputs": [],
   "source": [
    "from torch import nn\n",
    "import torch.optim as optim"
   ]
  },
  {
   "cell_type": "code",
   "execution_count": 138,
   "id": "efe61cd9-3d6f-4a00-8ffc-5fce83ee15a6",
   "metadata": {},
   "outputs": [],
   "source": [
    "class Logistic_Regression(nn.Module):\n",
    "    def __init__(self,input_dim,hidden_dim):\n",
    "        super(Logistic_Regression,self).__init__()\n",
    "        self.linear1 = nn.Linear(input_dim,hidden_dim)   # these linear1 and linear2 are callable variables that will be called in forward method\n",
    "        self.linear2 = nn.Linear(hidden_dim,1)\n",
    "    def forward(self,x):\n",
    "        x = self.linear1(x)    # train set will be passed to this callable variable that triggers nn.Linear function here z (weighted sum) will be computed for linear1 layer\n",
    "        x = torch.relu(x)\n",
    "        x = self.linear2(x)\n",
    "        output = torch.sigmoid(x)\n",
    "        return output\n",
    "        "
   ]
  },
  {
   "cell_type": "code",
   "execution_count": 139,
   "id": "69584815-95dd-4889-904c-7600c0647563",
   "metadata": {},
   "outputs": [],
   "source": [
    "input_dim = 12\n",
    "hidden_dim = 4\n",
    "model = Logistic_Regression(input_dim,hidden_dim)"
   ]
  },
  {
   "cell_type": "code",
   "execution_count": 157,
   "id": "e05704ea-4f1f-4b4a-b379-2482700c7f67",
   "metadata": {},
   "outputs": [],
   "source": [
    "criterion = nn.BCELoss()"
   ]
  },
  {
   "cell_type": "code",
   "execution_count": 158,
   "id": "0378692d-e728-4077-9c56-4b6199ba9033",
   "metadata": {},
   "outputs": [],
   "source": [
    "optimizer = torch.optim.SGD(model.parameters(),lr=0.01)"
   ]
  },
  {
   "cell_type": "code",
   "execution_count": 159,
   "id": "7b595ade-ecea-4f19-bbc2-7e9bf418d7ea",
   "metadata": {},
   "outputs": [],
   "source": [
    "x_train = torch.randn(100,input_dim)\n",
    "y_train = torch.randint(0,2,(100,1)).float()"
   ]
  },
  {
   "cell_type": "code",
   "execution_count": 160,
   "id": "55e19cdb-6e8b-4579-a5e7-a57c2fc3f06c",
   "metadata": {},
   "outputs": [
    {
     "data": {
      "text/plain": [
       "Logistic_Regression(\n",
       "  (linear1): Linear(in_features=12, out_features=4, bias=True)\n",
       "  (linear2): Linear(in_features=4, out_features=1, bias=True)\n",
       ")"
      ]
     },
     "execution_count": 160,
     "metadata": {},
     "output_type": "execute_result"
    }
   ],
   "source": [
    "model.train()"
   ]
  },
  {
   "cell_type": "code",
   "execution_count": 257,
   "id": "333813aa-8fe3-45f9-9361-6e65df729780",
   "metadata": {},
   "outputs": [
    {
     "name": "stdout",
     "output_type": "stream",
     "text": [
      "Epoch [1], Loss: 0.5574\n"
     ]
    }
   ],
   "source": [
    "for epoch in range(1):\n",
    "    optimizer.zero_grad()\n",
    "    y_pred = model(x_train)   # this line triggers the forward function in Logistic regression\n",
    "    loss = criterion(y_pred,y_train)   # it computes the loss between prediction and ground truth\n",
    "    loss.backward()       # it computes the gradient based on the loss using backward propagation\n",
    "    optimizer.step()\n",
    "    print(f'Epoch [{epoch+1}], Loss: {loss.item():.4f}')"
   ]
  },
  {
   "cell_type": "code",
   "execution_count": null,
   "id": "19a47547-2b32-46c6-8364-4015221ac84e",
   "metadata": {},
   "outputs": [],
   "source": []
  },
  {
   "cell_type": "code",
   "execution_count": null,
   "id": "cab8d589-8a58-458b-9be3-853c0281b5fd",
   "metadata": {},
   "outputs": [],
   "source": []
  }
 ],
 "metadata": {
  "kernelspec": {
   "display_name": "Python 3 (ipykernel)",
   "language": "python",
   "name": "python3"
  },
  "language_info": {
   "codemirror_mode": {
    "name": "ipython",
    "version": 3
   },
   "file_extension": ".py",
   "mimetype": "text/x-python",
   "name": "python",
   "nbconvert_exporter": "python",
   "pygments_lexer": "ipython3",
   "version": "3.12.4"
  }
 },
 "nbformat": 4,
 "nbformat_minor": 5
}
